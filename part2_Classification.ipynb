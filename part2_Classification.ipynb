{
 "cells": [
  {
   "cell_type": "code",
   "execution_count": 60,
   "metadata": {},
   "outputs": [],
   "source": [
    "import requests\n",
    "import zipfile\n",
    "import pandas as pd\n",
    "import logging\n",
    "import numpy as np\n",
    "import os\n",
    "import shutil\n",
    "import matplotlib.pyplot as plt\n",
    "import glob\n",
    "import boto\n",
    "from boto.s3.connection import Location\n",
    "from boto.s3.key import Key\n",
    "import time\n",
    "import datetime\n",
    "from sklearn import metrics\n",
    "from sklearn import svm\n",
    "from statsmodels.formula.api import logit, probit, poisson, ols\n",
    "from sklearn.linear_model import LogisticRegression\n",
    "import statsmodels.api as sm\n",
    "from sklearn.cross_validation import train_test_split\n",
    "from sklearn.metrics import confusion_matrix\n",
    "from sklearn.metrics import roc_curve\n",
    "from sklearn.cross_validation  import cross_val_score"
   ]
  },
  {
   "cell_type": "code",
   "execution_count": 61,
   "metadata": {},
   "outputs": [
    {
     "name": "stdout",
     "output_type": "stream",
     "text": [
      "(1500000, 26)\n"
     ]
    }
   ],
   "source": [
    "df = pd.read_csv('HistoricalInputFiles/historical_data1_time_Q12005.txt', sep=\"|\",\n",
    "                     names=['id_loan','svcg_cycle','current_upb','delq_sts','loan_age','mths_remng',\n",
    "                           'repch_flag','flag_mod', 'cd_zero_bal',\n",
    "                           'dt_zero_bal','current_int_rt','non_int_brng_upb','dt_lst_pi','mi_recoveries',\n",
    "                           'net_sale_proceeds','non_mi_recoveries','expenses', 'legal_costs',\n",
    "                           'maint_pres_costs','taxes_ins_costs','misc_costs','actual_loss', 'modcost','step_mod_flag',\n",
    "                            'def_py_mod', 'eltv'], skipinitialspace=True, error_bad_lines=False, index_col=False, dtype='unicode', nrows=1500000)\n",
    "print(df.shape)"
   ]
  },
  {
   "cell_type": "code",
   "execution_count": 62,
   "metadata": {},
   "outputs": [],
   "source": [
    "df.columns = ['id_loan', 'svcg_cycle', 'current_upb', 'delq_sts', 'loan_age', 'mths_remng',\n",
    "                           'repch_flag', 'flag_mod', 'cd_zero_bal',\n",
    "                           'dt_zero_bal', 'current_int_rt', 'non_int_brng_upb', 'dt_lst_pi', 'mi_recoveries',\n",
    "                           'net_sale_proceeds', 'non_mi_recoveries', 'expenses', 'legal_costs',\n",
    "                           'maint_pres_costs', 'taxes_ins_costs', 'misc_costs', 'actual_loss', 'modcost','step_mod_flag',\n",
    "                            'def_py_mod', 'eltv']"
   ]
  },
  {
   "cell_type": "code",
   "execution_count": 63,
   "metadata": {},
   "outputs": [],
   "source": [
    "df.current_upb =df.current_upb.astype('float64')\n",
    "df.non_int_brng_upb =df.non_int_brng_upb.astype('float64')\n",
    "df.current_int_rt =df.current_int_rt.astype('float64')\n",
    "\n",
    "df[['svcg_cycle', 'loan_age', 'mths_remng']] = df[\n",
    "        ['svcg_cycle', 'loan_age', 'mths_remng']].astype('int64')\n",
    "\n",
    "df[['id_loan', 'delq_sts']] = df[['id_loan', 'delq_sts']].astype('str')\n",
    "\n",
    "df['delq_sts'] = [999 if x=='R' else x for x in (df['delq_sts'].apply(lambda x: x))]\n",
    "df['delq_sts'] = [0 if x=='XX' else x for x in (df['delq_sts'].apply(lambda x: x))]\n",
    "\n",
    "df[['delq_sts']] = df[['delq_sts']].astype('int64')\n",
    "df['new_delinq'] = (df.delq_sts > 0).astype(int)\n",
    "\n",
    "df.drop('delq_sts', axis = 1,inplace=True)"
   ]
  },
  {
   "cell_type": "code",
   "execution_count": 85,
   "metadata": {},
   "outputs": [
    {
     "data": {
      "text/html": [
       "<div>\n",
       "<style scoped>\n",
       "    .dataframe tbody tr th:only-of-type {\n",
       "        vertical-align: middle;\n",
       "    }\n",
       "\n",
       "    .dataframe tbody tr th {\n",
       "        vertical-align: top;\n",
       "    }\n",
       "\n",
       "    .dataframe thead th {\n",
       "        text-align: right;\n",
       "    }\n",
       "</style>\n",
       "<table border=\"1\" class=\"dataframe\">\n",
       "  <thead>\n",
       "    <tr style=\"text-align: right;\">\n",
       "      <th></th>\n",
       "      <th>svcg_cycle</th>\n",
       "      <th>current_upb</th>\n",
       "      <th>loan_age</th>\n",
       "      <th>mths_remng</th>\n",
       "      <th>current_int_rt</th>\n",
       "      <th>non_int_brng_upb</th>\n",
       "      <th>new_delinq</th>\n",
       "    </tr>\n",
       "  </thead>\n",
       "  <tbody>\n",
       "    <tr>\n",
       "      <th>count</th>\n",
       "      <td>1.500000e+06</td>\n",
       "      <td>1.500000e+06</td>\n",
       "      <td>1.500000e+06</td>\n",
       "      <td>1.500000e+06</td>\n",
       "      <td>1.500000e+06</td>\n",
       "      <td>1.500000e+06</td>\n",
       "      <td>1.500000e+06</td>\n",
       "    </tr>\n",
       "    <tr>\n",
       "      <th>mean</th>\n",
       "      <td>2.008996e+05</td>\n",
       "      <td>1.451781e+05</td>\n",
       "      <td>5.145241e+01</td>\n",
       "      <td>3.115494e+02</td>\n",
       "      <td>5.751144e+00</td>\n",
       "      <td>2.095240e+02</td>\n",
       "      <td>4.796533e-02</td>\n",
       "    </tr>\n",
       "    <tr>\n",
       "      <th>std</th>\n",
       "      <td>3.226561e+02</td>\n",
       "      <td>7.864566e+04</td>\n",
       "      <td>3.869615e+01</td>\n",
       "      <td>4.184568e+01</td>\n",
       "      <td>4.563015e-01</td>\n",
       "      <td>3.902650e+03</td>\n",
       "      <td>2.136930e-01</td>\n",
       "    </tr>\n",
       "    <tr>\n",
       "      <th>min</th>\n",
       "      <td>2.005020e+05</td>\n",
       "      <td>0.000000e+00</td>\n",
       "      <td>0.000000e+00</td>\n",
       "      <td>0.000000e+00</td>\n",
       "      <td>0.000000e+00</td>\n",
       "      <td>0.000000e+00</td>\n",
       "      <td>0.000000e+00</td>\n",
       "    </tr>\n",
       "    <tr>\n",
       "      <th>25%</th>\n",
       "      <td>2.006100e+05</td>\n",
       "      <td>8.643321e+04</td>\n",
       "      <td>2.000000e+01</td>\n",
       "      <td>2.870000e+02</td>\n",
       "      <td>5.625000e+00</td>\n",
       "      <td>0.000000e+00</td>\n",
       "      <td>0.000000e+00</td>\n",
       "    </tr>\n",
       "    <tr>\n",
       "      <th>50%</th>\n",
       "      <td>2.008100e+05</td>\n",
       "      <td>1.298149e+05</td>\n",
       "      <td>4.400000e+01</td>\n",
       "      <td>3.180000e+02</td>\n",
       "      <td>5.750000e+00</td>\n",
       "      <td>0.000000e+00</td>\n",
       "      <td>0.000000e+00</td>\n",
       "    </tr>\n",
       "    <tr>\n",
       "      <th>75%</th>\n",
       "      <td>2.011060e+05</td>\n",
       "      <td>1.915049e+05</td>\n",
       "      <td>7.600000e+01</td>\n",
       "      <td>3.420000e+02</td>\n",
       "      <td>5.875000e+00</td>\n",
       "      <td>0.000000e+00</td>\n",
       "      <td>0.000000e+00</td>\n",
       "    </tr>\n",
       "    <tr>\n",
       "      <th>max</th>\n",
       "      <td>2.018030e+05</td>\n",
       "      <td>6.900000e+05</td>\n",
       "      <td>1.570000e+02</td>\n",
       "      <td>4.810000e+02</td>\n",
       "      <td>8.250000e+00</td>\n",
       "      <td>2.403000e+05</td>\n",
       "      <td>1.000000e+00</td>\n",
       "    </tr>\n",
       "  </tbody>\n",
       "</table>\n",
       "</div>"
      ],
      "text/plain": [
       "         svcg_cycle   current_upb      loan_age    mths_remng  current_int_rt  \\\n",
       "count  1.500000e+06  1.500000e+06  1.500000e+06  1.500000e+06    1.500000e+06   \n",
       "mean   2.008996e+05  1.451781e+05  5.145241e+01  3.115494e+02    5.751144e+00   \n",
       "std    3.226561e+02  7.864566e+04  3.869615e+01  4.184568e+01    4.563015e-01   \n",
       "min    2.005020e+05  0.000000e+00  0.000000e+00  0.000000e+00    0.000000e+00   \n",
       "25%    2.006100e+05  8.643321e+04  2.000000e+01  2.870000e+02    5.625000e+00   \n",
       "50%    2.008100e+05  1.298149e+05  4.400000e+01  3.180000e+02    5.750000e+00   \n",
       "75%    2.011060e+05  1.915049e+05  7.600000e+01  3.420000e+02    5.875000e+00   \n",
       "max    2.018030e+05  6.900000e+05  1.570000e+02  4.810000e+02    8.250000e+00   \n",
       "\n",
       "       non_int_brng_upb    new_delinq  \n",
       "count      1.500000e+06  1.500000e+06  \n",
       "mean       2.095240e+02  4.796533e-02  \n",
       "std        3.902650e+03  2.136930e-01  \n",
       "min        0.000000e+00  0.000000e+00  \n",
       "25%        0.000000e+00  0.000000e+00  \n",
       "50%        0.000000e+00  0.000000e+00  \n",
       "75%        0.000000e+00  0.000000e+00  \n",
       "max        2.403000e+05  1.000000e+00  "
      ]
     },
     "execution_count": 85,
     "metadata": {},
     "output_type": "execute_result"
    }
   ],
   "source": [
    "df.describe()"
   ]
  },
  {
   "cell_type": "code",
   "execution_count": 19,
   "metadata": {},
   "outputs": [
    {
     "data": {
      "text/html": [
       "<div>\n",
       "<style scoped>\n",
       "    .dataframe tbody tr th:only-of-type {\n",
       "        vertical-align: middle;\n",
       "    }\n",
       "\n",
       "    .dataframe tbody tr th {\n",
       "        vertical-align: top;\n",
       "    }\n",
       "\n",
       "    .dataframe thead th {\n",
       "        text-align: right;\n",
       "    }\n",
       "</style>\n",
       "<table border=\"1\" class=\"dataframe\">\n",
       "  <thead>\n",
       "    <tr style=\"text-align: right;\">\n",
       "      <th></th>\n",
       "      <th>id_loan</th>\n",
       "      <th>svcg_cycle</th>\n",
       "      <th>current_upb</th>\n",
       "      <th>loan_age</th>\n",
       "      <th>mths_remng</th>\n",
       "      <th>repch_flag</th>\n",
       "      <th>flag_mod</th>\n",
       "      <th>cd_zero_bal</th>\n",
       "      <th>dt_zero_bal</th>\n",
       "      <th>current_int_rt</th>\n",
       "      <th>...</th>\n",
       "      <th>legal_costs</th>\n",
       "      <th>maint_pres_costs</th>\n",
       "      <th>taxes_ins_costs</th>\n",
       "      <th>misc_costs</th>\n",
       "      <th>actual_loss</th>\n",
       "      <th>modcost</th>\n",
       "      <th>step_mod_flag</th>\n",
       "      <th>def_py_mod</th>\n",
       "      <th>eltv</th>\n",
       "      <th>new_delinq</th>\n",
       "    </tr>\n",
       "  </thead>\n",
       "  <tbody>\n",
       "    <tr>\n",
       "      <th>0</th>\n",
       "      <td>F105Q1000001</td>\n",
       "      <td>5520</td>\n",
       "      <td>190000</td>\n",
       "      <td>0</td>\n",
       "      <td>360</td>\n",
       "      <td>2.0</td>\n",
       "      <td>0.0</td>\n",
       "      <td>0.0</td>\n",
       "      <td>0</td>\n",
       "      <td>5.625</td>\n",
       "      <td>...</td>\n",
       "      <td>0</td>\n",
       "      <td>0</td>\n",
       "      <td>0</td>\n",
       "      <td>0</td>\n",
       "      <td>0</td>\n",
       "      <td>0</td>\n",
       "      <td>NaN</td>\n",
       "      <td>NaN</td>\n",
       "      <td>NaN</td>\n",
       "      <td>0</td>\n",
       "    </tr>\n",
       "    <tr>\n",
       "      <th>1</th>\n",
       "      <td>F105Q1000001</td>\n",
       "      <td>5550</td>\n",
       "      <td>190000</td>\n",
       "      <td>1</td>\n",
       "      <td>359</td>\n",
       "      <td>2.0</td>\n",
       "      <td>0.0</td>\n",
       "      <td>0.0</td>\n",
       "      <td>0</td>\n",
       "      <td>5.625</td>\n",
       "      <td>...</td>\n",
       "      <td>0</td>\n",
       "      <td>0</td>\n",
       "      <td>0</td>\n",
       "      <td>0</td>\n",
       "      <td>0</td>\n",
       "      <td>0</td>\n",
       "      <td>NaN</td>\n",
       "      <td>NaN</td>\n",
       "      <td>NaN</td>\n",
       "      <td>0</td>\n",
       "    </tr>\n",
       "    <tr>\n",
       "      <th>2</th>\n",
       "      <td>F105Q1000001</td>\n",
       "      <td>5580</td>\n",
       "      <td>190000</td>\n",
       "      <td>2</td>\n",
       "      <td>358</td>\n",
       "      <td>2.0</td>\n",
       "      <td>0.0</td>\n",
       "      <td>0.0</td>\n",
       "      <td>0</td>\n",
       "      <td>5.625</td>\n",
       "      <td>...</td>\n",
       "      <td>0</td>\n",
       "      <td>0</td>\n",
       "      <td>0</td>\n",
       "      <td>0</td>\n",
       "      <td>0</td>\n",
       "      <td>0</td>\n",
       "      <td>NaN</td>\n",
       "      <td>NaN</td>\n",
       "      <td>NaN</td>\n",
       "      <td>0</td>\n",
       "    </tr>\n",
       "    <tr>\n",
       "      <th>3</th>\n",
       "      <td>F105Q1000001</td>\n",
       "      <td>5610</td>\n",
       "      <td>189000</td>\n",
       "      <td>3</td>\n",
       "      <td>357</td>\n",
       "      <td>2.0</td>\n",
       "      <td>0.0</td>\n",
       "      <td>0.0</td>\n",
       "      <td>0</td>\n",
       "      <td>5.625</td>\n",
       "      <td>...</td>\n",
       "      <td>0</td>\n",
       "      <td>0</td>\n",
       "      <td>0</td>\n",
       "      <td>0</td>\n",
       "      <td>0</td>\n",
       "      <td>0</td>\n",
       "      <td>NaN</td>\n",
       "      <td>NaN</td>\n",
       "      <td>NaN</td>\n",
       "      <td>0</td>\n",
       "    </tr>\n",
       "    <tr>\n",
       "      <th>4</th>\n",
       "      <td>F105Q1000001</td>\n",
       "      <td>5640</td>\n",
       "      <td>189000</td>\n",
       "      <td>4</td>\n",
       "      <td>356</td>\n",
       "      <td>2.0</td>\n",
       "      <td>0.0</td>\n",
       "      <td>0.0</td>\n",
       "      <td>0</td>\n",
       "      <td>5.625</td>\n",
       "      <td>...</td>\n",
       "      <td>0</td>\n",
       "      <td>0</td>\n",
       "      <td>0</td>\n",
       "      <td>0</td>\n",
       "      <td>0</td>\n",
       "      <td>0</td>\n",
       "      <td>NaN</td>\n",
       "      <td>NaN</td>\n",
       "      <td>NaN</td>\n",
       "      <td>0</td>\n",
       "    </tr>\n",
       "  </tbody>\n",
       "</table>\n",
       "<p>5 rows × 26 columns</p>\n",
       "</div>"
      ],
      "text/plain": [
       "        id_loan svcg_cycle current_upb loan_age mths_remng  repch_flag  \\\n",
       "0  F105Q1000001       5520      190000        0        360         2.0   \n",
       "1  F105Q1000001       5550      190000        1        359         2.0   \n",
       "2  F105Q1000001       5580      190000        2        358         2.0   \n",
       "3  F105Q1000001       5610      189000        3        357         2.0   \n",
       "4  F105Q1000001       5640      189000        4        356         2.0   \n",
       "\n",
       "   flag_mod  cd_zero_bal  dt_zero_bal current_int_rt    ...     legal_costs  \\\n",
       "0       0.0          0.0            0          5.625    ...               0   \n",
       "1       0.0          0.0            0          5.625    ...               0   \n",
       "2       0.0          0.0            0          5.625    ...               0   \n",
       "3       0.0          0.0            0          5.625    ...               0   \n",
       "4       0.0          0.0            0          5.625    ...               0   \n",
       "\n",
       "   maint_pres_costs taxes_ins_costs  misc_costs actual_loss modcost  \\\n",
       "0                 0               0           0           0       0   \n",
       "1                 0               0           0           0       0   \n",
       "2                 0               0           0           0       0   \n",
       "3                 0               0           0           0       0   \n",
       "4                 0               0           0           0       0   \n",
       "\n",
       "  step_mod_flag def_py_mod eltv new_delinq  \n",
       "0           NaN        NaN  NaN          0  \n",
       "1           NaN        NaN  NaN          0  \n",
       "2           NaN        NaN  NaN          0  \n",
       "3           NaN        NaN  NaN          0  \n",
       "4           NaN        NaN  NaN          0  \n",
       "\n",
       "[5 rows x 26 columns]"
      ]
     },
     "execution_count": 19,
     "metadata": {},
     "output_type": "execute_result"
    }
   ],
   "source": [
    "df.head()"
   ]
  },
  {
   "cell_type": "code",
   "execution_count": 24,
   "metadata": {
    "scrolled": true
   },
   "outputs": [
    {
     "data": {
      "text/html": [
       "<div>\n",
       "<style scoped>\n",
       "    .dataframe tbody tr th:only-of-type {\n",
       "        vertical-align: middle;\n",
       "    }\n",
       "\n",
       "    .dataframe tbody tr th {\n",
       "        vertical-align: top;\n",
       "    }\n",
       "\n",
       "    .dataframe thead th {\n",
       "        text-align: right;\n",
       "    }\n",
       "</style>\n",
       "<table border=\"1\" class=\"dataframe\">\n",
       "  <thead>\n",
       "    <tr style=\"text-align: right;\">\n",
       "      <th></th>\n",
       "      <th>Features</th>\n",
       "      <th>MissingPercentage</th>\n",
       "    </tr>\n",
       "  </thead>\n",
       "  <tbody>\n",
       "    <tr>\n",
       "      <th>24</th>\n",
       "      <td>def_py_mod</td>\n",
       "      <td>99.952333</td>\n",
       "    </tr>\n",
       "    <tr>\n",
       "      <th>23</th>\n",
       "      <td>step_mod_flag</td>\n",
       "      <td>99.952333</td>\n",
       "    </tr>\n",
       "    <tr>\n",
       "      <th>7</th>\n",
       "      <td>flag_mod</td>\n",
       "      <td>99.952333</td>\n",
       "    </tr>\n",
       "    <tr>\n",
       "      <th>13</th>\n",
       "      <td>mi_recoveries</td>\n",
       "      <td>99.932333</td>\n",
       "    </tr>\n",
       "    <tr>\n",
       "      <th>20</th>\n",
       "      <td>misc_costs</td>\n",
       "      <td>99.932333</td>\n",
       "    </tr>\n",
       "    <tr>\n",
       "      <th>15</th>\n",
       "      <td>non_mi_recoveries</td>\n",
       "      <td>99.932333</td>\n",
       "    </tr>\n",
       "    <tr>\n",
       "      <th>14</th>\n",
       "      <td>net_sale_proceeds</td>\n",
       "      <td>99.932333</td>\n",
       "    </tr>\n",
       "    <tr>\n",
       "      <th>18</th>\n",
       "      <td>maint_pres_costs</td>\n",
       "      <td>99.932333</td>\n",
       "    </tr>\n",
       "    <tr>\n",
       "      <th>19</th>\n",
       "      <td>taxes_ins_costs</td>\n",
       "      <td>99.932333</td>\n",
       "    </tr>\n",
       "    <tr>\n",
       "      <th>16</th>\n",
       "      <td>expenses</td>\n",
       "      <td>99.932333</td>\n",
       "    </tr>\n",
       "    <tr>\n",
       "      <th>17</th>\n",
       "      <td>legal_costs</td>\n",
       "      <td>99.932333</td>\n",
       "    </tr>\n",
       "    <tr>\n",
       "      <th>21</th>\n",
       "      <td>actual_loss</td>\n",
       "      <td>99.932333</td>\n",
       "    </tr>\n",
       "    <tr>\n",
       "      <th>12</th>\n",
       "      <td>dt_lst_pi</td>\n",
       "      <td>99.888000</td>\n",
       "    </tr>\n",
       "    <tr>\n",
       "      <th>9</th>\n",
       "      <td>dt_zero_bal</td>\n",
       "      <td>98.825067</td>\n",
       "    </tr>\n",
       "    <tr>\n",
       "      <th>8</th>\n",
       "      <td>cd_zero_bal</td>\n",
       "      <td>98.825067</td>\n",
       "    </tr>\n",
       "    <tr>\n",
       "      <th>6</th>\n",
       "      <td>repch_flag</td>\n",
       "      <td>98.824733</td>\n",
       "    </tr>\n",
       "    <tr>\n",
       "      <th>22</th>\n",
       "      <td>modcost</td>\n",
       "      <td>98.673800</td>\n",
       "    </tr>\n",
       "    <tr>\n",
       "      <th>25</th>\n",
       "      <td>eltv</td>\n",
       "      <td>98.457933</td>\n",
       "    </tr>\n",
       "    <tr>\n",
       "      <th>1</th>\n",
       "      <td>svcg_cycle</td>\n",
       "      <td>0.000000</td>\n",
       "    </tr>\n",
       "    <tr>\n",
       "      <th>11</th>\n",
       "      <td>non_int_brng_upb</td>\n",
       "      <td>0.000000</td>\n",
       "    </tr>\n",
       "    <tr>\n",
       "      <th>10</th>\n",
       "      <td>current_int_rt</td>\n",
       "      <td>0.000000</td>\n",
       "    </tr>\n",
       "    <tr>\n",
       "      <th>5</th>\n",
       "      <td>mths_remng</td>\n",
       "      <td>0.000000</td>\n",
       "    </tr>\n",
       "    <tr>\n",
       "      <th>4</th>\n",
       "      <td>loan_age</td>\n",
       "      <td>0.000000</td>\n",
       "    </tr>\n",
       "    <tr>\n",
       "      <th>3</th>\n",
       "      <td>delq_sts</td>\n",
       "      <td>0.000000</td>\n",
       "    </tr>\n",
       "    <tr>\n",
       "      <th>2</th>\n",
       "      <td>current_upb</td>\n",
       "      <td>0.000000</td>\n",
       "    </tr>\n",
       "    <tr>\n",
       "      <th>0</th>\n",
       "      <td>id_loan</td>\n",
       "      <td>0.000000</td>\n",
       "    </tr>\n",
       "  </tbody>\n",
       "</table>\n",
       "</div>"
      ],
      "text/plain": [
       "             Features  MissingPercentage\n",
       "24         def_py_mod          99.952333\n",
       "23      step_mod_flag          99.952333\n",
       "7            flag_mod          99.952333\n",
       "13      mi_recoveries          99.932333\n",
       "20         misc_costs          99.932333\n",
       "15  non_mi_recoveries          99.932333\n",
       "14  net_sale_proceeds          99.932333\n",
       "18   maint_pres_costs          99.932333\n",
       "19    taxes_ins_costs          99.932333\n",
       "16           expenses          99.932333\n",
       "17        legal_costs          99.932333\n",
       "21        actual_loss          99.932333\n",
       "12          dt_lst_pi          99.888000\n",
       "9         dt_zero_bal          98.825067\n",
       "8         cd_zero_bal          98.825067\n",
       "6          repch_flag          98.824733\n",
       "22            modcost          98.673800\n",
       "25               eltv          98.457933\n",
       "1          svcg_cycle           0.000000\n",
       "11   non_int_brng_upb           0.000000\n",
       "10     current_int_rt           0.000000\n",
       "5          mths_remng           0.000000\n",
       "4            loan_age           0.000000\n",
       "3            delq_sts           0.000000\n",
       "2         current_upb           0.000000\n",
       "0             id_loan           0.000000"
      ]
     },
     "execution_count": 24,
     "metadata": {},
     "output_type": "execute_result"
    }
   ],
   "source": [
    "rowcnt = len(df.index)\n",
    "# Example data\n",
    "features = []\n",
    "missngpercnt = []\n",
    "if rowcnt > 0:\n",
    "    for x in df:\n",
    "        features.append(x)\n",
    "        prcnt = float(len(df[df[x].isnull()])) / float(rowcnt) * 100.0\n",
    "        missngpercnt.append(prcnt)\n",
    "else:\n",
    "    features = df.columns\n",
    "    missngpercnt = [0] * len(features)\n",
    "\n",
    "\n",
    "missingprcntdata = pd.DataFrame({'Features':features,'MissingPercentage':missngpercnt})\n",
    "missingprcntdata = missingprcntdata.sort_values('MissingPercentage',ascending =False)\n",
    "missingprcntdata"
   ]
  },
  {
   "cell_type": "code",
   "execution_count": 64,
   "metadata": {},
   "outputs": [],
   "source": [
    "traincols = ['svcg_cycle','current_upb','loan_age',\n",
    "           'mths_remng','current_int_rt','non_int_brng_upb']\n",
    "y_train = df['new_delinq']\n",
    "Train_DF=df[traincols]"
   ]
  },
  {
   "cell_type": "code",
   "execution_count": 65,
   "metadata": {},
   "outputs": [],
   "source": [
    "test_df = pd.read_csv('HistoricalInputFiles/historical_data1_time_Q22005.txt', sep=\"|\",\n",
    "                                names=['id_loan','svcg_cycle','current_upb','delq_sts','loan_age','mths_remng',\n",
    "                           'repch_flag','flag_mod', 'cd_zero_bal',\n",
    "                           'dt_zero_bal','current_int_rt','non_int_brng_upb','dt_lst_pi','mi_recoveries',\n",
    "                           'net_sale_proceeds','non_mi_recoveries','expenses', 'legal_costs',\n",
    "                           'maint_pres_costs','taxes_ins_costs','misc_costs','actual_loss', 'modcost','step_mod_flag',\n",
    "                            'def_py_mod', 'eltv'],\n",
    "                            skipinitialspace=True, error_bad_lines=False, index_col=False, dtype='unicode',\n",
    "                            nrows=500000)"
   ]
  },
  {
   "cell_type": "code",
   "execution_count": 66,
   "metadata": {},
   "outputs": [],
   "source": [
    "test_df.columns = ['id_loan', 'svcg_cycle', 'current_upb', 'delq_sts', 'loan_age', 'mths_remng',\n",
    "                           'repch_flag', 'flag_mod', 'cd_zero_bal',\n",
    "                           'dt_zero_bal', 'current_int_rt', 'non_int_brng_upb', 'dt_lst_pi', 'mi_recoveries',\n",
    "                           'net_sale_proceeds', 'non_mi_recoveries', 'expenses', 'legal_costs',\n",
    "                           'maint_pres_costs', 'taxes_ins_costs', 'misc_costs', 'actual_loss', 'modcost','step_mod_flag',\n",
    "                            'def_py_mod', 'eltv']"
   ]
  },
  {
   "cell_type": "code",
   "execution_count": 67,
   "metadata": {},
   "outputs": [],
   "source": [
    "test_df.current_upb =test_df.current_upb.astype('float64')\n",
    "test_df.non_int_brng_upb =test_df.non_int_brng_upb.astype('float64')\n",
    "test_df.current_int_rt =test_df.current_int_rt.astype('float64')\n",
    "\n",
    "test_df[['svcg_cycle', 'loan_age', 'mths_remng']] = test_df[\n",
    "        ['svcg_cycle', 'loan_age', 'mths_remng']].astype('int64')\n",
    "\n",
    "test_df[['id_loan', 'delq_sts']] = test_df[['id_loan', 'delq_sts']].astype('str')\n",
    "\n",
    "test_df['delq_sts'] = [999 if x=='R' else x for x in (test_df['delq_sts'].apply(lambda x: x))]\n",
    "test_df['delq_sts'] = [0 if x=='XX' else x for x in (test_df['delq_sts'].apply(lambda x: x))]\n",
    "\n",
    "test_df[['delq_sts']] = test_df[['delq_sts']].astype('int64')\n",
    "test_df['new_delinq'] = (test_df.delq_sts > 0).astype(int)\n",
    "\n",
    "test_df.drop('delq_sts', axis = 1,inplace=True)"
   ]
  },
  {
   "cell_type": "code",
   "execution_count": 68,
   "metadata": {},
   "outputs": [],
   "source": [
    "testcols = ['svcg_cycle','current_upb','loan_age',\n",
    "           'mths_remng','current_int_rt','non_int_brng_upb']\n",
    "y_test = test_df['new_delinq']\n",
    "Test_DF = test_df[testcols]"
   ]
  },
  {
   "cell_type": "code",
   "execution_count": 69,
   "metadata": {},
   "outputs": [
    {
     "name": "stdout",
     "output_type": "stream",
     "text": [
      "0.954674\n"
     ]
    }
   ],
   "source": [
    "model = LogisticRegression()\n",
    "mod_fit = model.fit(Train_DF, y_train)\n",
    "pred = mod_fit.predict(Test_DF)\n",
    "metrics.accuracy_score(y_test, pred)\n",
    "print(metrics.accuracy_score(y_test, pred))"
   ]
  },
  {
   "cell_type": "code",
   "execution_count": 71,
   "metadata": {},
   "outputs": [
    {
     "name": "stdout",
     "output_type": "stream",
     "text": [
      "22618,22618,500000,19,64\n"
     ]
    }
   ],
   "source": [
    "cf = confusion_matrix(y_test, pred, labels=None, sample_weight=None)\n",
    "numDelinqProper = cf[1][1]\n",
    "numnondelinqimproper = cf[0][1]\n",
    "numRecordsInDataset = y_test.count()\n",
    "numPredictedDelinq = cf[1][0] + cf[1][1]\n",
    "numActualDelinq = y_test[y_test == 1].count()\n",
    "\n",
    "record = str(numActualDelinq) + \",\" + str(numPredictedDelinq) + \",\" + str(numRecordsInDataset) + \",\" + str(numDelinqProper) + \",\" + str(numnondelinqimproper)\n",
    "\n",
    "print(record)"
   ]
  },
  {
   "cell_type": "code",
   "execution_count": 72,
   "metadata": {},
   "outputs": [
    {
     "name": "stdout",
     "output_type": "stream",
     "text": [
      "[[477318     64]\n",
      " [ 22599     19]]\n"
     ]
    }
   ],
   "source": [
    "print (metrics.confusion_matrix(y_test,pred))"
   ]
  },
  {
   "cell_type": "code",
   "execution_count": 73,
   "metadata": {},
   "outputs": [],
   "source": [
    "preds = model.predict_proba(Test_DF)[:,1]\n",
    "fpr,tpr, _ = roc_curve(y_test,preds)"
   ]
  },
  {
   "cell_type": "code",
   "execution_count": 74,
   "metadata": {},
   "outputs": [
    {
     "data": {
      "image/png": "[encoded data removed]",
      "text/plain": [
       "<Figure size 432x288 with 1 Axes>"
      ]
     },
     "metadata": {},
     "output_type": "display_data"
    }
   ],
   "source": [
    "import matplotlib.pylab as plt\n",
    "\n",
    "plt.figure()\n",
    "plt.plot(fpr,tpr,label= \"ROC CURVE\")\n",
    "plt.plot([0,1],[0,1],'k--')\n",
    "plt.xlim([0.0,1.0])\n",
    "plt.ylim([0.0,1.05])\n",
    "plt.xlabel('1-Specificity')\n",
    "plt.ylabel('Sensitivity')\n",
    "plt.title('ROC CURVE')\n",
    "plt.legend(loc=\"lower right\")\n",
    "plt.show()"
   ]
  },
  {
   "cell_type": "code",
   "execution_count": 76,
   "metadata": {},
   "outputs": [
    {
     "name": "stdout",
     "output_type": "stream",
     "text": [
      "0.941926\n"
     ]
    }
   ],
   "source": [
    "from sklearn.ensemble import RandomForestClassifier\n",
    "rf = RandomForestClassifier()\n",
    "mod_fit = rf.fit(Train_DF, y_train)\n",
    "pred = mod_fit.predict(Test_DF)\n",
    "metrics.accuracy_score(y_test, pred)\n",
    "print(metrics.accuracy_score(y_test, pred))"
   ]
  },
  {
   "cell_type": "code",
   "execution_count": 77,
   "metadata": {},
   "outputs": [
    {
     "name": "stdout",
     "output_type": "stream",
     "text": [
      "22618,22618,500000,1731,8150\n",
      "[[469232   8150]\n",
      " [ 20887   1731]]\n"
     ]
    }
   ],
   "source": [
    "cf = confusion_matrix(y_test, pred, labels=None, sample_weight=None)\n",
    "numDelinqProper = cf[1][1]\n",
    "numnondelinqimproper = cf[0][1]\n",
    "numRecordsInDataset = y_test.count()\n",
    "numPredictedDelinq = cf[1][0] + cf[1][1]\n",
    "numActualDelinq = y_test[y_test == 1].count()\n",
    "\n",
    "record = str(numActualDelinq) + \",\" + str(numPredictedDelinq) + \",\" + str(numRecordsInDataset) + \",\" + str(numDelinqProper) + \",\" + str(numnondelinqimproper)\n",
    "\n",
    "print(record)\n",
    "\n",
    "print (metrics.confusion_matrix(y_test,pred))"
   ]
  },
  {
   "cell_type": "code",
   "execution_count": 78,
   "metadata": {},
   "outputs": [],
   "source": [
    "preds = rf.predict_proba(Test_DF)[:,1]\n",
    "fpr,tpr, _ = roc_curve(y_test,preds)"
   ]
  },
  {
   "cell_type": "code",
   "execution_count": 79,
   "metadata": {},
   "outputs": [
    {
     "data": {
      "image/png": "[encoded data removed]",
      "text/plain": [
       "<Figure size 432x288 with 1 Axes>"
      ]
     },
     "metadata": {},
     "output_type": "display_data"
    }
   ],
   "source": [
    "plt.figure()\n",
    "plt.plot(fpr,tpr,label= \"ROC CURVE\")\n",
    "plt.plot([0,1],[0,1],'k--')\n",
    "plt.xlim([0.0,1.0])\n",
    "plt.ylim([0.0,1.05])\n",
    "plt.xlabel('1-Specificity')\n",
    "plt.ylabel('Sensitivity')\n",
    "plt.title('ROC CURVE')\n",
    "plt.legend(loc=\"lower right\")\n",
    "plt.show()"
   ]
  },
  {
   "cell_type": "code",
   "execution_count": 80,
   "metadata": {},
   "outputs": [
    {
     "name": "stdout",
     "output_type": "stream",
     "text": [
      "0.954764\n"
     ]
    }
   ],
   "source": [
    "from sklearn.neural_network import MLPClassifier\n",
    "nn = MLPClassifier()\n",
    "mod_fit = nn.fit(Train_DF, y_train)\n",
    "pred = mod_fit.predict(Test_DF)\n",
    "metrics.accuracy_score(y_test, pred)\n",
    "print(metrics.accuracy_score(y_test, pred))"
   ]
  },
  {
   "cell_type": "code",
   "execution_count": 81,
   "metadata": {},
   "outputs": [
    {
     "name": "stdout",
     "output_type": "stream",
     "text": [
      "22618,22618,500000,0,0\n",
      "[[477382      0]\n",
      " [ 22618      0]]\n"
     ]
    }
   ],
   "source": [
    "cf = confusion_matrix(y_test, pred, labels=None, sample_weight=None)\n",
    "numDelinqProper = cf[1][1]\n",
    "numnondelinqimproper = cf[0][1]\n",
    "numRecordsInDataset = y_test.count()\n",
    "numPredictedDelinq = cf[1][0] + cf[1][1]\n",
    "numActualDelinq = y_test[y_test == 1].count()\n",
    "\n",
    "record = str(numActualDelinq) + \",\" + str(numPredictedDelinq) + \",\" + str(numRecordsInDataset) + \",\" + str(numDelinqProper) + \",\" + str(numnondelinqimproper)\n",
    "\n",
    "print(record)\n",
    "\n",
    "print (metrics.confusion_matrix(y_test,pred))"
   ]
  },
  {
   "cell_type": "code",
   "execution_count": 82,
   "metadata": {},
   "outputs": [
    {
     "data": {
      "image/png": "[encoded data removed]",
      "text/plain": [
       "<Figure size 432x288 with 1 Axes>"
      ]
     },
     "metadata": {},
     "output_type": "display_data"
    }
   ],
   "source": [
    "preds = rf.predict_proba(Test_DF)[:,1]\n",
    "fpr,tpr, _ = roc_curve(y_test,preds)\n",
    "\n",
    "plt.figure()\n",
    "plt.plot(fpr,tpr,label= \"ROC CURVE\")\n",
    "plt.plot([0,1],[0,1],'k--')\n",
    "plt.xlim([0.0,1.0])\n",
    "plt.ylim([0.0,1.05])\n",
    "plt.xlabel('1-Specificity')\n",
    "plt.ylabel('Sensitivity')\n",
    "plt.title('ROC CURVE')\n",
    "plt.legend(loc=\"lower right\")\n",
    "plt.show()"
   ]
  },
  {
   "cell_type": "code",
   "execution_count": 128,
   "metadata": {},
   "outputs": [],
   "source": [
    "from tpot import TPOTRegressor\n",
    "tpot = TPOTRegressor(generations=2, population_size=3,\n",
    "                     offspring_size=None,\n",
    "                     mutation_rate=0.9,\n",
    "                     verbosity=3,cv=2,n_jobs=-1)"
   ]
  },
  {
   "cell_type": "code",
   "execution_count": 129,
   "metadata": {},
   "outputs": [
    {
     "name": "stdout",
     "output_type": "stream",
     "text": [
      "Warning: xgboost.XGBRegressor is not available and will not be used by TPOT.\n",
      "28 operators have been imported by TPOT.\n"
     ]
    },
    {
     "data": {
      "application/vnd.jupyter.widget-view+json": {
       "model_id": "",
       "version_major": 2,
       "version_minor": 0
      },
      "text/plain": [
       "HBox(children=(IntProgress(value=0, description='Optimization Progress', max=9, style=ProgressStyle(descriptio…"
      ]
     },
     "metadata": {},
     "output_type": "display_data"
    },
    {
     "name": "stdout",
     "output_type": "stream",
     "text": [
      "_pre_test decorator: _random_mutation_operator: num_test=0 Unsupported set of arguments: The combination of penalty='l2' and loss='epsilon_insensitive' are not supported when dual=False, Parameters: penalty='l2', loss='epsilon_insensitive', dual=False\n",
      "Generation 1 - Current Pareto front scores:\n",
      "-1\t-0.0433973627841599\tExtraTreesRegressor(input_matrix, ExtraTreesRegressor__bootstrap=False, ExtraTreesRegressor__max_features=0.3, ExtraTreesRegressor__min_samples_leaf=18, ExtraTreesRegressor__min_samples_split=5, ExtraTreesRegressor__n_estimators=100)\n",
      "\n",
      "Skipped pipeline #8 due to time out. Continuing to the next pipeline.\n",
      "Generation 2 - Current Pareto front scores:\n",
      "-1\t-0.0433973627841599\tExtraTreesRegressor(input_matrix, ExtraTreesRegressor__bootstrap=False, ExtraTreesRegressor__max_features=0.3, ExtraTreesRegressor__min_samples_leaf=18, ExtraTreesRegressor__min_samples_split=5, ExtraTreesRegressor__n_estimators=100)\n",
      "\n",
      "\r"
     ]
    },
    {
     "data": {
      "text/plain": [
       "TPOTRegressor(config_dict=None, crossover_rate=0.1, cv=2,\n",
       "       disable_update_check=False, early_stop=None, generations=2,\n",
       "       max_eval_time_mins=5, max_time_mins=None, memory=None,\n",
       "       mutation_rate=0.9, n_jobs=-1, offspring_size=None,\n",
       "       periodic_checkpoint_folder=None, population_size=3,\n",
       "       random_state=None, scoring=None, subsample=1.0, use_dask=False,\n",
       "       verbosity=3, warm_start=False)"
      ]
     },
     "execution_count": 129,
     "metadata": {},
     "output_type": "execute_result"
    }
   ],
   "source": [
    "tpot.fit(Train_DF,y_train)"
   ]
  },
  {
   "cell_type": "code",
   "execution_count": 131,
   "metadata": {},
   "outputs": [
    {
     "name": "stdout",
     "output_type": "stream",
     "text": [
      "The RMSE of TPOT Regressor is -0.040850945121599334\n"
     ]
    }
   ],
   "source": [
    "print('The RMSE of TPOT Regressor is {}'.format(tpot.score(Test_DF,y_test)))"
   ]
  },
  {
   "cell_type": "code",
   "execution_count": 86,
   "metadata": {},
   "outputs": [],
   "source": [
    "from sklearn.metrics import *\n",
    "from IPython.core.display import HTML\n",
    "import h2o\n",
    "from h2o.estimators.gbm import H2OGradientBoostingEstimator"
   ]
  },
  {
   "cell_type": "code",
   "execution_count": 88,
   "metadata": {},
   "outputs": [
    {
     "name": "stdout",
     "output_type": "stream",
     "text": [
      "Checking whether there is an H2O instance running at http://localhost:54321. connected.\n"
     ]
    },
    {
     "data": {
      "text/html": [
       "<div style=\"overflow:auto\"><table style=\"width:50%\"><tr><td>H2O cluster uptime:</td>\n",
       "<td>14 secs</td></tr>\n",
       "<tr><td>H2O cluster timezone:</td>\n",
       "<td>America/New_York</td></tr>\n",
       "<tr><td>H2O data parsing timezone:</td>\n",
       "<td>UTC</td></tr>\n",
       "<tr><td>H2O cluster version:</td>\n",
       "<td>3.22.0.2</td></tr>\n",
       "<tr><td>H2O cluster version age:</td>\n",
       "<td>8 days </td></tr>\n",
       "<tr><td>H2O cluster name:</td>\n",
       "<td>H2O_from_python_achar_9ss7cm</td></tr>\n",
       "<tr><td>H2O cluster total nodes:</td>\n",
       "<td>1</td></tr>\n",
       "<tr><td>H2O cluster free memory:</td>\n",
       "<td>3.511 Gb</td></tr>\n",
       "<tr><td>H2O cluster total cores:</td>\n",
       "<td>8</td></tr>\n",
       "<tr><td>H2O cluster allowed cores:</td>\n",
       "<td>8</td></tr>\n",
       "<tr><td>H2O cluster status:</td>\n",
       "<td>locked, healthy</td></tr>\n",
       "<tr><td>H2O connection url:</td>\n",
       "<td>http://localhost:54321</td></tr>\n",
       "<tr><td>H2O connection proxy:</td>\n",
       "<td>None</td></tr>\n",
       "<tr><td>H2O internal security:</td>\n",
       "<td>False</td></tr>\n",
       "<tr><td>H2O API Extensions:</td>\n",
       "<td>Algos, AutoML, Core V3, Core V4</td></tr>\n",
       "<tr><td>Python version:</td>\n",
       "<td>3.6.5 final</td></tr></table></div>"
      ],
      "text/plain": [
       "--------------------------  -------------------------------\n",
       "H2O cluster uptime:         14 secs\n",
       "H2O cluster timezone:       America/New_York\n",
       "H2O data parsing timezone:  UTC\n",
       "H2O cluster version:        3.22.0.2\n",
       "H2O cluster version age:    8 days\n",
       "H2O cluster name:           H2O_from_python_achar_9ss7cm\n",
       "H2O cluster total nodes:    1\n",
       "H2O cluster free memory:    3.511 Gb\n",
       "H2O cluster total cores:    8\n",
       "H2O cluster allowed cores:  8\n",
       "H2O cluster status:         locked, healthy\n",
       "H2O connection url:         http://localhost:54321\n",
       "H2O connection proxy:\n",
       "H2O internal security:      False\n",
       "H2O API Extensions:         Algos, AutoML, Core V3, Core V4\n",
       "Python version:             3.6.5 final\n",
       "--------------------------  -------------------------------"
      ]
     },
     "metadata": {},
     "output_type": "display_data"
    }
   ],
   "source": [
    "h2o.init()"
   ]
  },
  {
   "cell_type": "code",
   "execution_count": 112,
   "metadata": {},
   "outputs": [
    {
     "data": {
      "text/plain": [
       "Index(['svcg_cycle', 'current_upb', 'loan_age', 'mths_remng', 'current_int_rt',\n",
       "       'non_int_brng_upb', 'new_delinq'],\n",
       "      dtype='object')"
      ]
     },
     "execution_count": 112,
     "metadata": {},
     "output_type": "execute_result"
    }
   ],
   "source": [
    "H2o_Train = df.filter(['svcg_cycle','current_upb','loan_age',\n",
    "           'mths_remng','current_int_rt','non_int_brng_upb','new_delinq'], axis=1)\n",
    "\n",
    "H2o_Train.columns"
   ]
  },
  {
   "cell_type": "code",
   "execution_count": 121,
   "metadata": {},
   "outputs": [
    {
     "data": {
      "text/plain": [
       "Index(['svcg_cycle', 'current_upb', 'loan_age', 'mths_remng', 'current_int_rt',\n",
       "       'non_int_brng_upb', 'new_delinq'],\n",
       "      dtype='object')"
      ]
     },
     "execution_count": 121,
     "metadata": {},
     "output_type": "execute_result"
    }
   ],
   "source": [
    "H2o_Test = test_df.filter(['svcg_cycle','current_upb','loan_age',\n",
    "           'mths_remng','current_int_rt','non_int_brng_upb','new_delinq'], axis=1)\n",
    "\n",
    "H2o_Test.columns"
   ]
  },
  {
   "cell_type": "code",
   "execution_count": 113,
   "metadata": {},
   "outputs": [
    {
     "name": "stdout",
     "output_type": "stream",
     "text": [
      "Parse progress: |█████████████████████████████████████████████████████████| 100%\n"
     ]
    }
   ],
   "source": [
    "train = h2o.H2OFrame(H2o_Train)"
   ]
  },
  {
   "cell_type": "code",
   "execution_count": 114,
   "metadata": {},
   "outputs": [],
   "source": [
    "train = train.head(10000)"
   ]
  },
  {
   "cell_type": "code",
   "execution_count": 122,
   "metadata": {},
   "outputs": [
    {
     "name": "stdout",
     "output_type": "stream",
     "text": [
      "Parse progress: |█████████████████████████████████████████████████████████| 100%\n"
     ]
    }
   ],
   "source": [
    "test = h2o.H2OFrame(H2o_Test)"
   ]
  },
  {
   "cell_type": "code",
   "execution_count": 123,
   "metadata": {},
   "outputs": [],
   "source": [
    "test = test.head(10000)"
   ]
  },
  {
   "cell_type": "code",
   "execution_count": 117,
   "metadata": {},
   "outputs": [],
   "source": [
    "x = train.columns\n",
    "y = 'new_delinq'\n",
    "x.remove(y)"
   ]
  },
  {
   "cell_type": "code",
   "execution_count": 118,
   "metadata": {},
   "outputs": [],
   "source": [
    "gbm_fit1 = H2OGradientBoostingEstimator(model_id='gbm_fit1', seed=1)"
   ]
  },
  {
   "cell_type": "code",
   "execution_count": 119,
   "metadata": {},
   "outputs": [
    {
     "name": "stdout",
     "output_type": "stream",
     "text": [
      "gbm Model Build progress: |███████████████████████████████████████████████| 100%\n"
     ]
    }
   ],
   "source": [
    "gbm_fit1.train(x=x, y=y, training_frame=train)"
   ]
  },
  {
   "cell_type": "code",
   "execution_count": 124,
   "metadata": {},
   "outputs": [],
   "source": [
    "gbm_perf1 = gbm_fit1.model_performance(test)"
   ]
  },
  {
   "cell_type": "code",
   "execution_count": 132,
   "metadata": {},
   "outputs": [
    {
     "name": "stdout",
     "output_type": "stream",
     "text": [
      "\n",
      "ModelMetricsRegression: gbm\n",
      "** Reported on test data. **\n",
      "\n",
      "MSE: 0.04125400617007638\n",
      "RMSE: 0.20311082238540706\n",
      "MAE: 0.06826421343020365\n",
      "RMSLE: 0.14411790481832826\n",
      "Mean Residual Deviance: 0.04125400617007638\n",
      "\n"
     ]
    }
   ],
   "source": [
    "print(gbm_perf1)"
   ]
  },
  {
   "cell_type": "code",
   "execution_count": null,
   "metadata": {},
   "outputs": [],
   "source": []
  }
 ],
 "metadata": {
  "kernelspec": {
   "display_name": "Python 3",
   "language": "python",
   "name": "python3"
  },
  "language_info": {
   "codemirror_mode": {
    "name": "ipython",
    "version": 3
   },
   "file_extension": ".py",
   "mimetype": "text/x-python",
   "name": "python",
   "nbconvert_exporter": "python",
   "pygments_lexer": "ipython3",
   "version": "3.6.5"
  }
 },
 "nbformat": 4,
 "nbformat_minor": 2
}
